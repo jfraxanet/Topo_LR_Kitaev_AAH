{
 "cells": [
  {
   "cell_type": "markdown",
   "metadata": {},
   "source": [
    "# Toplogical properties of the long-range Kitaev chain in the presence of a Aubry-André-Harper modulation\n",
    "\n",
    "> While the physics and topological properties of the 1D short-range and long-range Kitaev chains in spatially homogeneous chemical potential are well understood, it is not the case for inhomogeneous potentials. This repository contains the code where we perform a detailed study of the bulk topology at the central gap and edge states of the long-range Kitaev chain with Aubry-André-Harper potential. In the notebook \"data.ipynb\", you can find the code that creates the data for the figures in \"figures.ipynb\". The library contains all the basic functions to simulate de Hamiltonians (01) and compute the winding numbers (02)."
   ]
  },
  {
   "cell_type": "markdown",
   "metadata": {},
   "source": [
    "## Install"
   ]
  },
  {
   "cell_type": "markdown",
   "metadata": {},
   "source": [
    "`pip install Kitaev_LR_QP`"
   ]
  },
  {
   "cell_type": "markdown",
   "metadata": {},
   "source": [
    "## How to use"
   ]
  },
  {
   "cell_type": "code",
   "execution_count": null,
   "metadata": {},
   "outputs": [],
   "source": [
    "from Topo_LR_Kitaev_AAH.Hamiltonians import *\n",
    "from Topo_LR_Kitaev_AAH.Winding_num import *"
   ]
  }
 ],
 "metadata": {
  "kernelspec": {
   "display_name": "Python 3",
   "language": "python",
   "name": "python3"
  }
 },
 "nbformat": 4,
 "nbformat_minor": 2
}
