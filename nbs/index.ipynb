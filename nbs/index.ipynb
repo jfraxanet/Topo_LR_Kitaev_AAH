{
 "cells": [
  {
   "cell_type": "markdown",
   "metadata": {},
   "source": [
    "# Topological properties of the long-range Kitaev chain with Aubry-André-Harper modulation"
   ]
  },
  {
   "cell_type": "markdown",
   "metadata": {},
   "source": [
    "> By Joana Fraxanet, Utso Bhattacharya, Tobias Grass, Debraj Rakshit, Maciej Lewenstein and Alexandre Dauphin"
   ]
  },
  {
   "cell_type": "markdown",
   "metadata": {},
   "source": [
    "## Content\n",
    "\n",
    "This repository contains the code for the paper in https://arxiv.org/abs/2010.07102, where we perform a detailed study of the bulk and edge topology of the long-range Kitaev chain with Aubry-André-Harper potential.\n",
    "\n",
    "- The library contains all the basic functions to simulate the long-range Hamiltonian with the Aubry-André-Harper modulation (```01_Hamiltonians.ipynb```) and to compute the winding numbers (```02_Winding_num```).\n",
    "- The notebook ```data.ipynb```, you can find the code that creates the data for the figures of the paper.\n",
    "- The figures of the paper can be generated from ```figures.ipynb```. "
   ]
  },
  {
   "cell_type": "markdown",
   "metadata": {},
   "source": [
    "## Install\n",
    "\n",
    "Go to the folder containing the github repository and execute\n",
    "\n",
    "`pip install -e Kitaev_LR_QP`"
   ]
  },
  {
   "cell_type": "markdown",
   "metadata": {},
   "source": [
    "## How to use\n",
    "\n",
    "Once the library is installed, one can import the two modules in python with the following lines\n",
    "\n",
    "```\n",
    "from Topo_LR_Kitaev_AAH.Hamiltonians import *\n",
    "from Topo_LR_Kitaev_AAH.Winding_num import *\n",
    "```"
   ]
  },
  {
   "cell_type": "code",
   "execution_count": null,
   "metadata": {},
   "outputs": [],
   "source": []
  }
 ],
 "metadata": {
  "kernelspec": {
   "display_name": "Python 3",
   "language": "python",
   "name": "python3"
  }
 },
 "nbformat": 4,
 "nbformat_minor": 2
}
