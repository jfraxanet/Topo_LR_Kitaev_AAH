{
 "cells": [
  {
   "cell_type": "markdown",
   "metadata": {},
   "source": [
    "# LOCALIZATION"
   ]
  },
  {
   "cell_type": "code",
   "execution_count": null,
   "metadata": {},
   "outputs": [],
   "source": [
    "# default_exp Localization"
   ]
  },
  {
   "cell_type": "code",
   "execution_count": null,
   "metadata": {},
   "outputs": [],
   "source": [
    "#hide\n",
    "from nbdev.showdoc import *"
   ]
  },
  {
   "cell_type": "code",
   "execution_count": null,
   "metadata": {},
   "outputs": [],
   "source": [
    "#export\n",
    "\n",
    "import numpy as np"
   ]
  },
  {
   "cell_type": "code",
   "execution_count": null,
   "metadata": {},
   "outputs": [],
   "source": [
    "#export \n",
    "\n",
    "def IPR_NPR(evec):\n",
    "    \n",
    "    \"\"\"Calculate NPR and IPR of an evec that is normalized\"\"\"\n",
    "    \n",
    "    evec4 = np.abs(evec)**4\n",
    "    IPR = np.sum(evec4)\n",
    "    NPR = 1/(np.sum(evec4)*len(evec4))\n",
    "    \n",
    "    return IPR, NPR\n",
    "\n",
    "\n",
    "def energy_level_statistics(evals):\n",
    "    \n",
    "    '''Compute the energy level statistics of an array of evals'''\n",
    "    \n",
    "    rn = []\n",
    "    for i in range(len(evals)-2):   \n",
    "        div = min(np.abs(evals[i+1]-evals[i]), np.abs(evals[i+2]-evals[i+1]))/max(np.abs(evals[i+1]-evals[i]), np.abs(evals[i+2]-evals[i+1]))\n",
    "        rn = np.append(rn, div)\n",
    "        \n",
    "    return rn"
   ]
  }
 ],
 "metadata": {
  "kernelspec": {
   "display_name": "Python 3",
   "language": "python",
   "name": "python3"
  }
 },
 "nbformat": 4,
 "nbformat_minor": 2
}
